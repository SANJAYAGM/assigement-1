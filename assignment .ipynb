{
 "cells": [
  {
   "cell_type": "code",
   "execution_count": 18,
   "id": "ae169b37-e7d1-4b28-be0d-a207439fe5e9",
   "metadata": {},
   "outputs": [],
   "source": [
    "s1 = [\"sanjay\",[1,2,3,],1,2,3,3.5,(2,4,3)] #Q1 1"
   ]
  },
  {
   "cell_type": "code",
   "execution_count": 2,
   "id": "ca63509c-e91b-4a73-9fff-86cc94f9e1fd",
   "metadata": {},
   "outputs": [
    {
     "data": {
      "text/plain": [
       "['sanjay', [1, 2, 3], 1, 2, 3, 3.5, (2, 4, 3)]"
      ]
     },
     "execution_count": 2,
     "metadata": {},
     "output_type": "execute_result"
    }
   ],
   "source": [
    "s1"
   ]
  },
  {
   "cell_type": "code",
   "execution_count": 3,
   "id": "f0054f7e-bbcc-4489-9004-513065251c6d",
   "metadata": {},
   "outputs": [
    {
     "data": {
      "text/plain": [
       "list"
      ]
     },
     "execution_count": 3,
     "metadata": {},
     "output_type": "execute_result"
    }
   ],
   "source": [
    "type(s1)"
   ]
  },
  {
   "cell_type": "code",
   "execution_count": 12,
   "id": "8e20d600-9bcb-4c56-8580-04cc56372a55",
   "metadata": {},
   "outputs": [
    {
     "data": {
      "text/plain": [
       "str"
      ]
     },
     "execution_count": 12,
     "metadata": {},
     "output_type": "execute_result"
    }
   ],
   "source": [
    "type(s1[0])"
   ]
  },
  {
   "cell_type": "code",
   "execution_count": 13,
   "id": "c31c8712-6873-41c3-95d3-0c061f57a1d9",
   "metadata": {},
   "outputs": [
    {
     "data": {
      "text/plain": [
       "list"
      ]
     },
     "execution_count": 13,
     "metadata": {},
     "output_type": "execute_result"
    }
   ],
   "source": [
    "type(s1[1])"
   ]
  },
  {
   "cell_type": "code",
   "execution_count": 14,
   "id": "4e5ca67c-1fe9-47d7-83e4-70cf913afd29",
   "metadata": {},
   "outputs": [
    {
     "data": {
      "text/plain": [
       "int"
      ]
     },
     "execution_count": 14,
     "metadata": {},
     "output_type": "execute_result"
    }
   ],
   "source": [
    "type(s1[2])"
   ]
  },
  {
   "cell_type": "code",
   "execution_count": 15,
   "id": "6e82eed2-15b0-4be4-9177-ba3be077431b",
   "metadata": {},
   "outputs": [
    {
     "data": {
      "text/plain": [
       "float"
      ]
     },
     "execution_count": 15,
     "metadata": {},
     "output_type": "execute_result"
    }
   ],
   "source": [
    "type(s1[5])"
   ]
  },
  {
   "cell_type": "code",
   "execution_count": 16,
   "id": "a313b71c-defc-48d1-8841-459cc9499bb3",
   "metadata": {},
   "outputs": [
    {
     "data": {
      "text/plain": [
       "tuple"
      ]
     },
     "execution_count": 16,
     "metadata": {},
     "output_type": "execute_result"
    }
   ],
   "source": [
    "type(s1[6])"
   ]
  },
  {
   "cell_type": "code",
   "execution_count": 19,
   "id": "ed602d4f-14ec-4e84-accc-01584ffb93e2",
   "metadata": {},
   "outputs": [],
   "source": [
    "Var1=''\n",
    "var2='[DS,ML,PAYTHON]'\n",
    "Var3=['Das','ml','paython']\n",
    "var4=1.\n",
    "# Q2 ASSIGNMENT "
   ]
  },
  {
   "cell_type": "code",
   "execution_count": 23,
   "id": "e8a32882-9feb-4416-9e75-ed0dd82be2d3",
   "metadata": {},
   "outputs": [
    {
     "data": {
      "text/plain": [
       "str"
      ]
     },
     "execution_count": 23,
     "metadata": {},
     "output_type": "execute_result"
    }
   ],
   "source": [
    "type(Var1)"
   ]
  },
  {
   "cell_type": "code",
   "execution_count": 24,
   "id": "78a61df8-1a6e-45a2-89a8-26b79bf6a368",
   "metadata": {},
   "outputs": [
    {
     "data": {
      "text/plain": [
       "str"
      ]
     },
     "execution_count": 24,
     "metadata": {},
     "output_type": "execute_result"
    }
   ],
   "source": [
    "type(var2)"
   ]
  },
  {
   "cell_type": "code",
   "execution_count": 27,
   "id": "edb3f8aa-592a-4110-868d-4ff6e07b5017",
   "metadata": {},
   "outputs": [
    {
     "data": {
      "text/plain": [
       "list"
      ]
     },
     "execution_count": 27,
     "metadata": {},
     "output_type": "execute_result"
    }
   ],
   "source": [
    "type(Var3)"
   ]
  },
  {
   "cell_type": "code",
   "execution_count": 28,
   "id": "71904a0d-7556-4851-87d9-557235f64df6",
   "metadata": {},
   "outputs": [
    {
     "data": {
      "text/plain": [
       "float"
      ]
     },
     "execution_count": 28,
     "metadata": {},
     "output_type": "execute_result"
    }
   ],
   "source": [
    "type(var4)"
   ]
  },
  {
   "cell_type": "code",
   "execution_count": 29,
   "id": "8406dbbc-72e8-430b-a30e-15a2c73f59ec",
   "metadata": {},
   "outputs": [],
   "source": [
    "#Question no 3 operater \n"
   ]
  },
  {
   "cell_type": "code",
   "execution_count": 30,
   "id": "7cc58e2d-f993-4a78-b676-1997d8c7a5a6",
   "metadata": {},
   "outputs": [
    {
     "data": {
      "text/plain": [
       "0.5"
      ]
     },
     "execution_count": 30,
     "metadata": {},
     "output_type": "execute_result"
    }
   ],
   "source": [
    "2/4"
   ]
  },
  {
   "cell_type": "code",
   "execution_count": 46,
   "id": "f3b23005-9c50-4e92-b313-a61dfe41e518",
   "metadata": {},
   "outputs": [
    {
     "data": {
      "text/plain": [
       "50"
      ]
     },
     "execution_count": 46,
     "metadata": {},
     "output_type": "execute_result"
    }
   ],
   "source": [
    "50%100"
   ]
  },
  {
   "cell_type": "code",
   "execution_count": 50,
   "id": "cf6f48be-88c1-487d-86ea-1cffd5b68734",
   "metadata": {},
   "outputs": [
    {
     "data": {
      "text/plain": [
       "12"
      ]
     },
     "execution_count": 50,
     "metadata": {},
     "output_type": "execute_result"
    }
   ],
   "source": [
    "125//10"
   ]
  },
  {
   "cell_type": "code",
   "execution_count": 44,
   "id": "45e1dcfb-4eaf-4bc1-9b82-f6e3f72b55e1",
   "metadata": {},
   "outputs": [
    {
     "data": {
      "text/plain": [
       "125"
      ]
     },
     "execution_count": 44,
     "metadata": {},
     "output_type": "execute_result"
    }
   ],
   "source": [
    "5**3"
   ]
  },
  {
   "cell_type": "code",
   "execution_count": 74,
   "id": "f4db061e-b141-4e7a-9321-74696623c928",
   "metadata": {},
   "outputs": [
    {
     "name": "stdout",
     "output_type": "stream",
     "text": [
      "<class 'str'>\n",
      "sanjay\n",
      "<class 'int'>\n",
      "2\n",
      "<class 'float'>\n",
      "3.5\n",
      "<class 'bool'>\n",
      "1\n",
      "<class 'complex'>\n",
      "(7+5j)\n",
      "<class 'tuple'>\n",
      "(2, 3, 4, 5)\n",
      "<class 'list'>\n",
      "[3, 4, 5, 6]\n",
      "<class 'int'>\n",
      "3\n",
      "<class 'str'>\n",
      "str\n",
      "<class 'float'>\n",
      "3.5\n"
     ]
    }
   ],
   "source": [
    "# QUESTION N0 4  \n",
    "a = [\"sanjay\",2,3.5,True,7+5j,(2,3,4,5),[3,4,5,6],3,\"str\",3.5]\n",
    "for l in a :\n",
    "    print(type(l))\n",
    "    l=l*1\n",
    "    print(l)"
   ]
  },
  {
   "cell_type": "code",
   "execution_count": 37,
   "id": "60cbc0b8-9516-44bb-8262-45e36d40b614",
   "metadata": {},
   "outputs": [
    {
     "name": "stdout",
     "output_type": "stream",
     "text": [
      "1 is not divided by 3\n",
      "2 is not divided by 3\n",
      "3 is divided by 3\n",
      "4 is not divided by 3\n",
      "5 is not divided by 3\n",
      "6 is divided by 3\n",
      "7 is not divided by 3\n",
      "8 is not divided by 3\n",
      "9 is divided by 3\n",
      "10 is not divided by 3\n",
      "11 is not divided by 3\n",
      "12 is divided by 3\n",
      "13 is not divided by 3\n",
      "14 is not divided by 3\n",
      "15 is divided by 3\n",
      "16 is not divided by 3\n",
      "17 is not divided by 3\n",
      "18 is divided by 3\n",
      "19 is not divided by 3\n",
      "20 is not divided by 3\n",
      "21 is divided by 3\n",
      "22 is not divided by 3\n",
      "23 is not divided by 3\n",
      "24 is divided by 3\n"
     ]
    }
   ],
   "source": [
    "# QUESTION N0 4 \n",
    "\n",
    "N = 25\n",
    " \n",
    "for i in range(1,N):\n",
    "    if i % 3 == 0 :\n",
    "        print(i,\"is divided by 3\") \n",
    "    elif i % 3 != 0 :\n",
    "                print(i,\"is not divided by 3\")\n",
    "    else :\n",
    "        print(i,\"not divided by 3\")\n",
    "     "
   ]
  },
  {
   "cell_type": "code",
   "execution_count": 71,
   "id": "27a71a59-f61e-4c1b-a4f3-d76311be013f",
   "metadata": {},
   "outputs": [],
   "source": [
    "# question no 5 Imutable & unmutable\n",
    "L2 = \"SANJAY\" "
   ]
  },
  {
   "cell_type": "code",
   "execution_count": 73,
   "id": "04418678-59f5-4c0c-9f8f-809429f976e0",
   "metadata": {},
   "outputs": [
    {
     "data": {
      "text/plain": [
       "'SANJAY'"
      ]
     },
     "execution_count": 73,
     "metadata": {},
     "output_type": "execute_result"
    }
   ],
   "source": [
    "L2\n"
   ]
  },
  {
   "cell_type": "code",
   "execution_count": 75,
   "id": "6637db00-e808-4642-ac3e-bb816145f81a",
   "metadata": {},
   "outputs": [
    {
     "data": {
      "text/plain": [
       "'Y'"
      ]
     },
     "execution_count": 75,
     "metadata": {},
     "output_type": "execute_result"
    }
   ],
   "source": [
    "L2[5]"
   ]
  },
  {
   "cell_type": "code",
   "execution_count": 79,
   "id": "5b8d855d-6b51-47e8-ab41-b9346c4aa6f0",
   "metadata": {},
   "outputs": [
    {
     "ename": "TypeError",
     "evalue": "'str' object does not support item assignment",
     "output_type": "error",
     "traceback": [
      "\u001b[0;31m---------------------------------------------------------------------------\u001b[0m",
      "\u001b[0;31mTypeError\u001b[0m                                 Traceback (most recent call last)",
      "Cell \u001b[0;32mIn[79], line 1\u001b[0m\n\u001b[0;32m----> 1\u001b[0m \u001b[43mL2\u001b[49m\u001b[43m[\u001b[49m\u001b[38;5;241;43m5\u001b[39;49m\u001b[43m]\u001b[49m \u001b[38;5;241m=\u001b[39m \u001b[38;5;124m\"\u001b[39m\u001b[38;5;124mP\u001b[39m\u001b[38;5;124m\"\u001b[39m\n",
      "\u001b[0;31mTypeError\u001b[0m: 'str' object does not support item assignment"
     ]
    }
   ],
   "source": [
    "L2[5] = \"P\" #IT IS Unmuatble because obhecion not change"
   ]
  },
  {
   "cell_type": "code",
   "execution_count": 80,
   "id": "a2ba8038-3379-4559-89ba-195184e6fb3d",
   "metadata": {},
   "outputs": [],
   "source": [
    "L3 = [1 ,2 ,3,8,15,\"SANJAY\"] # it is mutable object because this object chage l3[4]=15 \n",
    "#,it is replace by 145 and run time it is change "
   ]
  },
  {
   "cell_type": "code",
   "execution_count": 81,
   "id": "9ff12e76-fe7a-408a-a0ee-b4c472f048aa",
   "metadata": {},
   "outputs": [
    {
     "data": {
      "text/plain": [
       "[1, 2, 3, 8, 15, 'SANJAY']"
      ]
     },
     "execution_count": 81,
     "metadata": {},
     "output_type": "execute_result"
    }
   ],
   "source": [
    "L3"
   ]
  },
  {
   "cell_type": "code",
   "execution_count": 82,
   "id": "2453498b-57e2-4ecc-ac6c-ba9b396af4df",
   "metadata": {},
   "outputs": [
    {
     "data": {
      "text/plain": [
       "15"
      ]
     },
     "execution_count": 82,
     "metadata": {},
     "output_type": "execute_result"
    }
   ],
   "source": [
    "L3[4]"
   ]
  },
  {
   "cell_type": "code",
   "execution_count": 83,
   "id": "49eb5f20-6d49-4076-aa30-b658aa894d43",
   "metadata": {},
   "outputs": [],
   "source": [
    "L3[4] = 145 "
   ]
  },
  {
   "cell_type": "code",
   "execution_count": 84,
   "id": "8d93a96b-e4d5-48be-99c3-e5ff45bbfa67",
   "metadata": {},
   "outputs": [
    {
     "data": {
      "text/plain": [
       "[1, 2, 3, 8, 145, 'SANJAY']"
      ]
     },
     "execution_count": 84,
     "metadata": {},
     "output_type": "execute_result"
    }
   ],
   "source": [
    "L3"
   ]
  },
  {
   "cell_type": "code",
   "execution_count": null,
   "id": "f8725003-359c-4912-9122-f892086509b7",
   "metadata": {},
   "outputs": [],
   "source": []
  }
 ],
 "metadata": {
  "kernelspec": {
   "display_name": "Python 3 (ipykernel)",
   "language": "python",
   "name": "python3"
  },
  "language_info": {
   "codemirror_mode": {
    "name": "ipython",
    "version": 3
   },
   "file_extension": ".py",
   "mimetype": "text/x-python",
   "name": "python",
   "nbconvert_exporter": "python",
   "pygments_lexer": "ipython3",
   "version": "3.10.8"
  }
 },
 "nbformat": 4,
 "nbformat_minor": 5
}
